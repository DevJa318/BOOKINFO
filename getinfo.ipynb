{
 "cells": [
  {
   "cell_type": "code",
   "execution_count": 10,
   "metadata": {},
   "outputs": [],
   "source": [
    "import requests\n",
    "import json"
   ]
  },
  {
   "cell_type": "code",
   "execution_count": 19,
   "metadata": {},
   "outputs": [],
   "source": [
    "search1 = '2020 Introducing Python.pdf'\n",
    "APISEARCH = 'https://api.itbook.store/1.0/search/'\n",
    "APIBYISBN = 'https://api.itbook.store/1.0/books/'"
   ]
  },
  {
   "cell_type": "code",
   "execution_count": 20,
   "metadata": {},
   "outputs": [],
   "source": [
    "def get_json(link,search):\n",
    "    url = link + search\n",
    "    res = requests.get(url)\n",
    "    api = json.loads(res.text)\n",
    "    return api"
   ]
  },
  {
   "cell_type": "code",
   "execution_count": 21,
   "metadata": {},
   "outputs": [],
   "source": [
    "def get_isbn(search, start=0):\n",
    "    api = get_json(APISEARCH, search)\n",
    "    isbn = api['books'][start]['isbn13']\n",
    "    return isbn"
   ]
  },
  {
   "cell_type": "code",
   "execution_count": 22,
   "metadata": {},
   "outputs": [],
   "source": [
    "def get_data(isbn):\n",
    "    api = get_json(APIBYISBN, isbn)\n",
    "    return api"
   ]
  },
  {
   "cell_type": "code",
   "execution_count": 26,
   "metadata": {},
   "outputs": [],
   "source": [
    "isbn = get_isbn(search1,start=1)"
   ]
  },
  {
   "cell_type": "code",
   "execution_count": 27,
   "metadata": {},
   "outputs": [],
   "source": [
    "data = get_data(isbn)"
   ]
  },
  {
   "cell_type": "code",
   "execution_count": 28,
   "metadata": {},
   "outputs": [
    {
     "data": {
      "text/plain": [
       "{'error': '0',\n",
       " 'title': 'Introducing Python, 2nd Edition',\n",
       " 'subtitle': 'Modern Computing in Simple Packages',\n",
       " 'authors': 'Bill Lubanovic',\n",
       " 'publisher': \"O'Reilly Media\",\n",
       " 'language': 'English',\n",
       " 'isbn10': '1492051365',\n",
       " 'isbn13': '9781492051367',\n",
       " 'pages': '630',\n",
       " 'year': '2019',\n",
       " 'rating': '4',\n",
       " 'desc': 'Easy to understand and fun to read, this updated edition of Introducing Python is ideal for beginning programmers as well as those new to the language. Author Bill Lubanovic takes you from the basics to more involved and varied topics, mixing tutorials with cookbook-style code recipes to explain con...',\n",
       " 'price': '$17.69',\n",
       " 'image': 'https://itbook.store/img/books/9781492051367.png',\n",
       " 'url': 'https://itbook.store/books/9781492051367'}"
      ]
     },
     "execution_count": 28,
     "metadata": {},
     "output_type": "execute_result"
    }
   ],
   "source": [
    "data"
   ]
  },
  {
   "cell_type": "code",
   "execution_count": 29,
   "metadata": {},
   "outputs": [
    {
     "data": {
      "text/plain": [
       "'2019'"
      ]
     },
     "execution_count": 29,
     "metadata": {},
     "output_type": "execute_result"
    }
   ],
   "source": [
    "data['year']"
   ]
  },
  {
   "cell_type": "code",
   "execution_count": 11,
   "metadata": {},
   "outputs": [
    {
     "data": {
      "text/plain": [
       "'For Python-based projects, pytest is the undeniable choice to test your code if you&#039;re looking for a full-featured, API-independent, flexible, and extensible testing framework. With a full-bodied fixture model that is unmatched in any other tool, the pytest framework gives you powerful features...'"
      ]
     },
     "execution_count": 11,
     "metadata": {},
     "output_type": "execute_result"
    }
   ],
   "source": [
    "data['desc']"
   ]
  },
  {
   "cell_type": "code",
   "execution_count": 49,
   "metadata": {},
   "outputs": [
    {
     "data": {
      "text/plain": [
       "True"
      ]
     },
     "execution_count": 49,
     "metadata": {},
     "output_type": "execute_result"
    }
   ],
   "source": [
    "int(search1[:4]) == int(data['year']) or int(search1[:4]) == int(data['year'])+1"
   ]
  },
  {
   "cell_type": "code",
   "execution_count": 51,
   "metadata": {},
   "outputs": [
    {
     "data": {
      "text/plain": [
       "True"
      ]
     },
     "execution_count": 51,
     "metadata": {},
     "output_type": "execute_result"
    }
   ],
   "source": [
    "search1[5:15].lower() == data['title'][:10].lower()"
   ]
  },
  {
   "cell_type": "code",
   "execution_count": 43,
   "metadata": {},
   "outputs": [
    {
     "data": {
      "text/plain": [
       "2020"
      ]
     },
     "execution_count": 43,
     "metadata": {},
     "output_type": "execute_result"
    }
   ],
   "source": [
    "int(search1[:4]) "
   ]
  },
  {
   "cell_type": "code",
   "execution_count": 17,
   "metadata": {},
   "outputs": [
    {
     "data": {
      "text/plain": [
       "True"
      ]
     },
     "execution_count": 17,
     "metadata": {},
     "output_type": "execute_result"
    }
   ],
   "source": [
    "search1[5:15] == data['title'][:10]"
   ]
  },
  {
   "cell_type": "code",
   "execution_count": 1,
   "metadata": {},
   "outputs": [
    {
     "ename": "NameError",
     "evalue": "name 'search1' is not defined",
     "output_type": "error",
     "traceback": [
      "\u001b[0;31m---------------------------------------------------------------------------\u001b[0m",
      "\u001b[0;31mNameError\u001b[0m                                 Traceback (most recent call last)",
      "Cell \u001b[0;32mIn[1], line 1\u001b[0m\n\u001b[0;32m----> 1\u001b[0m search1[:\u001b[39m4\u001b[39m] \u001b[39m==\u001b[39m data[\u001b[39m'\u001b[39m\u001b[39myear\u001b[39m\u001b[39m'\u001b[39m] \u001b[39mand\u001b[39;00m search1[\u001b[39m5\u001b[39m:\u001b[39m15\u001b[39m]\u001b[39m.\u001b[39mlower() \u001b[39m==\u001b[39m data[\u001b[39m'\u001b[39m\u001b[39mtitle\u001b[39m\u001b[39m'\u001b[39m][:\u001b[39m10\u001b[39m]\u001b[39m.\u001b[39mlower()\n",
      "\u001b[0;31mNameError\u001b[0m: name 'search1' is not defined"
     ]
    }
   ],
   "source": [
    "search1[:4] == data['year'] and search1[5:15].lower() == data['title'][:10].lower()"
   ]
  },
  {
   "cell_type": "code",
   "execution_count": null,
   "metadata": {},
   "outputs": [],
   "source": [
    "with open('testingfiles.txt') as f:\n",
    "    with open('righttestingfile', 'a') as w:\n",
    "        for line in f:\n",
    "            w.write(line.strip()[2:-4])\n"
   ]
  }
 ],
 "metadata": {
  "kernelspec": {
   "display_name": "Python 3 (ipykernel)",
   "language": "python",
   "name": "python3"
  },
  "language_info": {
   "codemirror_mode": {
    "name": "ipython",
    "version": 3
   },
   "file_extension": ".py",
   "mimetype": "text/x-python",
   "name": "python",
   "nbconvert_exporter": "python",
   "pygments_lexer": "ipython3",
   "version": "3.10.10"
  }
 },
 "nbformat": 4,
 "nbformat_minor": 4
}
